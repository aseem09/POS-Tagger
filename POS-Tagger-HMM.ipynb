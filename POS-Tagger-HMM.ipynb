{
 "cells": [
  {
   "cell_type": "code",
   "execution_count": 40,
   "metadata": {},
   "outputs": [],
   "source": [
    "# from reader import parse_data, list_to_freq_dict, parse_data_test\n",
    "import xml.etree.ElementTree as ET\n",
    "from collections import Counter\n",
    "import matplotlib.pyplot as plt\n",
    "import pandas as pd\n",
    "import pprint\n",
    "import pickle\n",
    "import os\n",
    "import json\n",
    "import numpy as np\n",
    "import multiprocessing\n",
    "import time\n",
    "from numpy import asarray\n",
    "from numpy import savetxt\n",
    "pp = pprint.PrettyPrinter(indent=4)"
   ]
  },
  {
   "cell_type": "code",
   "execution_count": 2,
   "metadata": {},
   "outputs": [],
   "source": [
    "def parse_data(file):\n",
    "    \n",
    "    tree = ET.parse(file)\n",
    "    root = tree.getroot()\n",
    "    \n",
    "    data = []\n",
    "    labels = []\n",
    "    \n",
    "    for s_tag in root.iter('s'):\n",
    "        \n",
    "        sentence = []\n",
    "        tags = []\n",
    "        \n",
    "        for w_tag in s_tag.iterfind('w'):\n",
    "            \n",
    "            word = w_tag.text.replace(\" \", \"\")\n",
    "            tag = w_tag.attrib['c5']\n",
    "\n",
    "            sentence.append(word)\n",
    "            tags.append(tag)\n",
    "        \n",
    "        data.append(sentence)\n",
    "        labels.append(tags)\n",
    "\n",
    "    return data, labels"
   ]
  },
  {
   "cell_type": "code",
   "execution_count": 3,
   "metadata": {},
   "outputs": [],
   "source": [
    "def load_dataset(path, training=True):\n",
    "\n",
    "    if training == True:\n",
    "        train_data = []\n",
    "        train_labels = []\n",
    "        \n",
    "        for subdir, dirs, files in os.walk(path):\n",
    "            for file in files:\n",
    "\n",
    "                fileName = subdir + '/' + str(file)\n",
    "                data, labels = parse_data(fileName)\n",
    "                train_data.extend(data)\n",
    "                train_labels.extend(labels)\n",
    "            \n",
    "        return train_data, train_labels\n",
    "        \n",
    "    else:\n",
    "        all_tuples = []\n",
    "        \n",
    "        for subdir, dirs, files in os.walk(path):\n",
    "            for file in files:\n",
    "\n",
    "                fileName = subdir + '/' + str(file)\n",
    "                tuples = parse_data_test(fileName)\n",
    "                all_tuples.extend(tuples)\n",
    "\n",
    "        return all_tuples"
   ]
  },
  {
   "cell_type": "code",
   "execution_count": 4,
   "metadata": {},
   "outputs": [],
   "source": [
    "# Load Dataset\n",
    "\n",
    "train_path = 'Train-corpus/'\n",
    "test_path = 'Test-corpus/'\n",
    "\n",
    "data, labels = load_dataset(train_path, training=True)"
   ]
  },
  {
   "cell_type": "code",
   "execution_count": 5,
   "metadata": {},
   "outputs": [
    {
     "name": "stdout",
     "output_type": "stream",
     "text": [
      "483629\n",
      "483629\n",
      "['Wonder', 'boy', \"'s\", 'eyes', 'on', 'Wembley']\n",
      "['VVB-NN1', 'NN1', 'POS', 'NN2', 'PRP', 'NP0']\n"
     ]
    }
   ],
   "source": [
    "print(len(data))\n",
    "print(len(labels))\n",
    "\n",
    "print(data[0])\n",
    "print(labels[0])"
   ]
  },
  {
   "cell_type": "code",
   "execution_count": 6,
   "metadata": {
    "id": "dkES1f_ROwPn"
   },
   "outputs": [],
   "source": [
    "# Load JSON Files\n",
    "\n",
    "with open('words.json') as f:\n",
    "    word_dict = json.load(f)\n",
    "with open('tags.json') as f:\n",
    "    tag_dict = json.load(f)\n",
    "with open('word_tags.json') as f:\n",
    "    word_tags_dict = json.load(f)"
   ]
  },
  {
   "cell_type": "code",
   "execution_count": 7,
   "metadata": {
    "id": "R6XVaCmZOwPs"
   },
   "outputs": [
    {
     "name": "stdout",
     "output_type": "stream",
     "text": [
      "57\n",
      "192634\n",
      "252564\n"
     ]
    }
   ],
   "source": [
    "print(len(tag_dict))\n",
    "print(len(word_dict))\n",
    "print(len(word_tags_dict))"
   ]
  },
  {
   "cell_type": "code",
   "execution_count": 170,
   "metadata": {},
   "outputs": [],
   "source": [
    "def compute_word_tag_freq_matrix():\n",
    "    \n",
    "    rows = len(word_dict.keys())\n",
    "    cols = len(tag_dict.keys())\n",
    "    \n",
    "    mat = [[0 for i in range(cols)] for j in range(rows)] \n",
    "    \n",
    "    i=0\n",
    "    for word in word_dict.keys():\n",
    "        j=0\n",
    "        for tag in tag_dict.keys():\n",
    "            case = word + \"_\" + tag\n",
    "            if case in word_tags_dict.keys():\n",
    "                mat[i][j] = word_tags_dict[case]\n",
    "            j = j + 1\n",
    "        i = i + 1\n",
    "        \n",
    "    return mat"
   ]
  },
  {
   "cell_type": "code",
   "execution_count": 171,
   "metadata": {},
   "outputs": [],
   "source": [
    "freq_matrix = compute_word_tag_freq_matrix()\n",
    "# savetxt('data.csv', freq_matrix, delimiter=',')"
   ]
  },
  {
   "cell_type": "code",
   "execution_count": 148,
   "metadata": {},
   "outputs": [],
   "source": [
    "def compute_emission_prob_matrix(freq):\n",
    "    rows = len(freq_matrix)\n",
    "    cols = len(freq_matrix[0])\n",
    "    mat = np.array(freq)\n",
    "    \n",
    "    for j in range(0, cols):\n",
    "        total = sum(mat[:, j])\n",
    "        mat[:, j] = [x/total for x in mat[:, j]]\n",
    "    \n",
    "    return mat"
   ]
  },
  {
   "cell_type": "code",
   "execution_count": 149,
   "metadata": {},
   "outputs": [],
   "source": [
    "emission_mat = compute_emission_prob_matrix(freq_matrix)"
   ]
  },
  {
   "cell_type": "code",
   "execution_count": 272,
   "metadata": {},
   "outputs": [
    {
     "name": "stdout",
     "output_type": "stream",
     "text": [
      "{'VBB': 0, 'DPS': 1, 'VDG': 2, 'VBG': 3, 'VBD': 4, 'VBI': 5, 'VDZ': 6, 'AV0': 7, 'VBN': 8, 'VDB': 9, 'VHI': 10, 'VDD': 11, 'CRD': 12, 'VHD': 13, 'VDI': 14, 'VBZ': 15, 'DTQ': 16, 'VDN': 17, 'NP0': 18, 'VM0': 19, 'VHB': 20, 'PRF': 21, 'VVZ': 22, 'AJ0': 23, 'VHZ': 24, 'POS': 25, 'VVN': 26, 'PRP': 27, 'VVI': 28, 'VVG': 29, 'VVD': 30, 'VVB': 31, 'XX0': 32, 'EX0': 33, 'CJC': 34, 'AJS': 35, 'VHG': 36, 'ZZ0': 37, 'UNC': 38, 'CJS': 39, 'AJC': 40, 'NN2': 41, 'CJT': 42, 'NN0': 43, 'PNX': 44, 'ITJ': 45, 'PNQ': 46, 'PNP': 47, 'TO0': 48, 'AVP': 49, 'AVQ': 50, 'PNI': 51, 'VHN': 52, 'AT0': 53, 'ORD': 54, 'DT0': 55, 'NN1': 56}\n"
     ]
    }
   ],
   "source": [
    "tags_index_dict = dict(zip(list(tag_dict.keys()),range(0, len(tag_dict.keys()))))\n",
    "print(tags_index_dict)"
   ]
  },
  {
   "cell_type": "code",
   "execution_count": 320,
   "metadata": {},
   "outputs": [],
   "source": [
    "def get_index(tag, isPrev= true):\n",
    "    if tag == \"start\":\n",
    "        return [0]\n",
    "    if tag == \"end\":\n",
    "        return [len(tags_index_dict.keys())]\n",
    "    if \"-\" in tag:\n",
    "        a1 = tags_index_dict[tag[:3]]\n",
    "        a2 = tags_index_dict[tag[4:]]\n",
    "        return [a1, a2]\n",
    "    else:\n",
    "        a = tags_index_dict[tag]+1\n",
    "        return [a]"
   ]
  },
  {
   "cell_type": "code",
   "execution_count": 324,
   "metadata": {},
   "outputs": [],
   "source": [
    "def compute_tag_tag_frequency_matrix():\n",
    "    \n",
    "    rows = len(tag_dict.keys()) + 1\n",
    "    cols = len(tag_dict.keys()) + 1\n",
    "    \n",
    "    mat = [[0 for i in range(cols)] for j in range(rows)] \n",
    "    \n",
    "    i=0\n",
    "    for sentence in data:\n",
    "        prev_tag = \"start\"\n",
    "        curr_tag = \"start\"\n",
    "        \n",
    "        j=0\n",
    "        for word in sentence:\n",
    "            prev_tag = curr_tag\n",
    "            curr_tag = labels[i][j]\n",
    "            \n",
    "            prev_index = get_index(prev_tag)\n",
    "            curr_index = get_index(curr_tag)\n",
    "            \n",
    "            a1=0\n",
    "            a2=0\n",
    "            b1=0\n",
    "            b2=0\n",
    "            \n",
    "            if len(prev_index) == 1:\n",
    "                a = prev_index[0]\n",
    "                if prev_tag != \"start\":\n",
    "                    a = a + 1\n",
    "                if len(curr_index) == 1:\n",
    "                    b = curr_index[0]\n",
    "                    mat[a][b] = mat[a][b] + 1\n",
    "                else:\n",
    "                    b1 = curr_index[0]\n",
    "                    b2 = curr_index[1]\n",
    "                    mat[a][b1] = mat[a][b1] + 1\n",
    "                    mat[a][b2] = mat[a][b2] + 1\n",
    "                    \n",
    "            else:\n",
    "                a1 = prev_index[0]\n",
    "                a2 = prev_index[1]\n",
    "                if len(curr_index) == 1:\n",
    "                    b = curr_index[0]\n",
    "                    mat[a1][b] = mat[a1][b] + 1\n",
    "                    mat[a2][b] = mat[a2][b] + 1\n",
    "                else:\n",
    "                    b1 = curr_index[0]\n",
    "                    b2 = curr_index[1]\n",
    "                    mat[a1][b1] = mat[a1][b1] + 1\n",
    "                    mat[a1][b2] = mat[a1][b2] + 1\n",
    "                    mat[a2][b1] = mat[a2][b1] + 1\n",
    "                    mat[a2][b2] = mat[a2][b2] + 1\n",
    "            \n",
    "            j=j+1\n",
    "            \n",
    "        curr_index = get_index(curr_tag)\n",
    "        \n",
    "        if len(curr_index) == 1:\n",
    "            b = curr_index[0] + 1\n",
    "            mat[b][57] = mat[b][57] + 1\n",
    "        else:\n",
    "            b1 = curr_index[0] + 1\n",
    "            b2 = curr_index[1] + 1\n",
    "            mat[b1][57] = mat[b1][57] + 1\n",
    "            mat[b2][57] = mat[b2][57] + 1\n",
    "        i=i+1\n",
    "        \n",
    "    return mat"
   ]
  },
  {
   "cell_type": "code",
   "execution_count": 325,
   "metadata": {},
   "outputs": [],
   "source": [
    "tag_tag_freq_matrix = compute_tag_tag_frequency_matrix()"
   ]
  },
  {
   "cell_type": "code",
   "execution_count": 328,
   "metadata": {},
   "outputs": [],
   "source": [
    "def compute_transition_prob_matrix(freq):\n",
    "    rows = len(freq)\n",
    "    cols = len(freq[0])\n",
    "    \n",
    "    mat = np.array(freq, dtype=float)\n",
    "    \n",
    "    for i in range(0, rows):\n",
    "        \n",
    "        total = float(sum(mat[i]))\n",
    "        if total == 0:\n",
    "            total = 1\n",
    "            \n",
    "        mat[i] = [x/total for x in mat[i]]\n",
    "            \n",
    "    return mat"
   ]
  },
  {
   "cell_type": "code",
   "execution_count": 329,
   "metadata": {},
   "outputs": [],
   "source": [
    "transition_mat = compute_transition_prob_matrix(tag_tag_freq_matrix)"
   ]
  },
  {
   "cell_type": "code",
   "execution_count": null,
   "metadata": {},
   "outputs": [],
   "source": []
  },
  {
   "cell_type": "code",
   "execution_count": null,
   "metadata": {},
   "outputs": [],
   "source": []
  },
  {
   "cell_type": "code",
   "execution_count": null,
   "metadata": {},
   "outputs": [],
   "source": []
  }
 ],
 "metadata": {
  "kernelspec": {
   "display_name": "Python 3",
   "language": "python",
   "name": "python3"
  },
  "language_info": {
   "codemirror_mode": {
    "name": "ipython",
    "version": 3
   },
   "file_extension": ".py",
   "mimetype": "text/x-python",
   "name": "python",
   "nbconvert_exporter": "python",
   "pygments_lexer": "ipython3",
   "version": "3.8.3"
  }
 },
 "nbformat": 4,
 "nbformat_minor": 4
}
