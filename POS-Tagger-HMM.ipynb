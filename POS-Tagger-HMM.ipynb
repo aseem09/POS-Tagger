{
 "cells": [
  {
   "cell_type": "code",
   "execution_count": 8,
   "metadata": {},
   "outputs": [],
   "source": [
    "# from reader import parse_data, list_to_freq_dict, parse_data_test\n",
    "import xml.etree.ElementTree as ET\n",
    "from collections import Counter\n",
    "import matplotlib.pyplot as plt\n",
    "import pandas as pd\n",
    "import pprint\n",
    "import os\n",
    "import numpy as np\n",
    "import multiprocessing\n",
    "import time\n",
    "pp = pprint.PrettyPrinter(indent=4)"
   ]
  },
  {
   "cell_type": "code",
   "execution_count": 9,
   "metadata": {},
   "outputs": [],
   "source": [
    "def parse_data(file):\n",
    "    \n",
    "    tree = ET.parse(file)\n",
    "    root = tree.getroot()\n",
    "    \n",
    "    data = []\n",
    "    labels = []\n",
    "    \n",
    "    for s_tag in root.iter('s'):\n",
    "        \n",
    "        sentence = []\n",
    "        tags = []\n",
    "        \n",
    "        for w_tag in s_tag.iterfind('w'):\n",
    "            \n",
    "            word = w_tag.text.replace(\" \", \"\")\n",
    "            tag = w_tag.attrib['c5']\n",
    "\n",
    "            sentence.append(word)\n",
    "            tags.append(tag)\n",
    "        \n",
    "        data.append(sentence)\n",
    "        labels.append(tags)\n",
    "\n",
    "    return data, labels"
   ]
  },
  {
   "cell_type": "code",
   "execution_count": 10,
   "metadata": {},
   "outputs": [],
   "source": [
    "def load_dataset(path, training=True):\n",
    "\n",
    "    if training == True:\n",
    "        train_data = []\n",
    "        train_labels = []\n",
    "        \n",
    "        for subdir, dirs, files in os.walk(path):\n",
    "            for file in files:\n",
    "\n",
    "                fileName = subdir + '/' + str(file)\n",
    "                data, labels = parse_data(fileName)\n",
    "                train_data.extend(data)\n",
    "                train_labels.extend(labels)\n",
    "            \n",
    "        return train_data, train_labels\n",
    "        \n",
    "    else:\n",
    "        all_tuples = []\n",
    "        \n",
    "        for subdir, dirs, files in os.walk(path):\n",
    "            for file in files:\n",
    "\n",
    "                fileName = subdir + '/' + str(file)\n",
    "                tuples = parse_data_test(fileName)\n",
    "                all_tuples.extend(tuples)\n",
    "\n",
    "        return all_tuples"
   ]
  },
  {
   "cell_type": "code",
   "execution_count": 11,
   "metadata": {},
   "outputs": [],
   "source": [
    "# Load Dataset\n",
    "\n",
    "train_path = 'Train-corpus/'\n",
    "test_path = 'Test-corpus/'\n",
    "\n",
    "data, labels = load_dataset(train_path, training=True)"
   ]
  },
  {
   "cell_type": "code",
   "execution_count": 13,
   "metadata": {},
   "outputs": [
    {
     "name": "stdout",
     "output_type": "stream",
     "text": [
      "483629\n",
      "483629\n",
      "['Wonder', 'boy', \"'s\", 'eyes', 'on', 'Wembley']\n",
      "['VVB-NN1', 'NN1', 'POS', 'NN2', 'PRP', 'NP0']\n"
     ]
    }
   ],
   "source": [
    "print(len(data))\n",
    "print(len(labels))\n",
    "\n",
    "print(data[0])\n",
    "print(labels[0])"
   ]
  },
  {
   "cell_type": "code",
   "execution_count": null,
   "metadata": {},
   "outputs": [],
   "source": []
  }
 ],
 "metadata": {
  "kernelspec": {
   "display_name": "Python 3",
   "language": "python",
   "name": "python3"
  },
  "language_info": {
   "codemirror_mode": {
    "name": "ipython",
    "version": 3
   },
   "file_extension": ".py",
   "mimetype": "text/x-python",
   "name": "python",
   "nbconvert_exporter": "python",
   "pygments_lexer": "ipython3",
   "version": "3.8.3"
  }
 },
 "nbformat": 4,
 "nbformat_minor": 4
}
