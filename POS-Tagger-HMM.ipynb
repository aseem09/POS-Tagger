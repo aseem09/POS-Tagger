{
 "cells": [
  {
   "cell_type": "code",
   "execution_count": 5,
   "metadata": {},
   "outputs": [],
   "source": [
    "# from reader import parse_data, list_to_freq_dict, parse_data_test\n",
    "import xml.etree.ElementTree as ET\n",
    "from collections import Counter\n",
    "import matplotlib.pyplot as plt\n",
    "import pandas as pd\n",
    "import pprint\n",
    "import os\n",
    "import json\n",
    "import numpy as np\n",
    "import multiprocessing\n",
    "import time\n",
    "pp = pprint.PrettyPrinter(indent=4)"
   ]
  },
  {
   "cell_type": "code",
   "execution_count": 35,
   "metadata": {},
   "outputs": [],
   "source": [
    "def parse_data(file):\n",
    "    \n",
    "    tree = ET.parse(file)\n",
    "    root = tree.getroot()\n",
    "    \n",
    "    data = []\n",
    "    labels = []\n",
    "    \n",
    "    for s_tag in root.iter('s'):\n",
    "        \n",
    "        sentence = []\n",
    "        tags = []\n",
    "        \n",
    "        for w_tag in s_tag.iterfind('w'):\n",
    "            \n",
    "#             if w_tag.text is not None and w_tag.attrib['c5'] is not None:\n",
    "            word = w_tag.text.replace(\" \", \"\")\n",
    "            tag = w_tag.attrib['c5']\n",
    "\n",
    "            sentence.append(word)\n",
    "\n",
    "            if '-' in tag:\n",
    "                tag1 = tag[:3]\n",
    "                tag2 = tag[4:]\n",
    "\n",
    "                new_list = []\n",
    "                for i in range(0, len(tags)):\n",
    "                    new_list.append(tags[i].append(tag1))\n",
    "                    new_list.append(tags[i].append(tag2))\n",
    "                tags = new_list\n",
    "\n",
    "            else:\n",
    "                for i in range(0, len(tags)):\n",
    "                    tag[i].append(tag)\n",
    "                    \n",
    "        data.append(sentence)\n",
    "        labels.append(tags)\n",
    "\n",
    "    return data, labels"
   ]
  },
  {
   "cell_type": "code",
   "execution_count": 36,
   "metadata": {},
   "outputs": [],
   "source": [
    "def load_dataset(path, training=True):\n",
    "\n",
    "    if training == True:\n",
    "        word_list = []\n",
    "        tag_list = []\n",
    "        word_tags_list = []\n",
    "        \n",
    "        for subdir, dirs, files in os.walk(path):\n",
    "            for file in files:\n",
    "\n",
    "                fileName = subdir + '/' + str(file)\n",
    "                data, labels = parse_data(fileName)\n",
    "            \n",
    "        return data, labels\n",
    "        \n",
    "    else:\n",
    "        all_tuples = []\n",
    "        \n",
    "        for subdir, dirs, files in os.walk(path):\n",
    "            for file in files:\n",
    "\n",
    "                fileName = subdir + '/' + str(file)\n",
    "                tuples = parse_data_test(fileName)\n",
    "                all_tuples.extend(tuples)\n",
    "\n",
    "        return all_tuples"
   ]
  },
  {
   "cell_type": "code",
   "execution_count": 37,
   "metadata": {},
   "outputs": [],
   "source": [
    "# Load Dataset\n",
    "\n",
    "train_path = 'Train-corpus/'\n",
    "test_path = 'Test-corpus/'\n",
    "\n",
    "data, labels = load_dataset(train_path, training=True)"
   ]
  },
  {
   "cell_type": "code",
   "execution_count": null,
   "metadata": {},
   "outputs": [],
   "source": []
  }
 ],
 "metadata": {
  "kernelspec": {
   "display_name": "Python 3",
   "language": "python",
   "name": "python3"
  },
  "language_info": {
   "codemirror_mode": {
    "name": "ipython",
    "version": 3
   },
   "file_extension": ".py",
   "mimetype": "text/x-python",
   "name": "python",
   "nbconvert_exporter": "python",
   "pygments_lexer": "ipython3",
   "version": "3.8.3"
  }
 },
 "nbformat": 4,
 "nbformat_minor": 4
}
