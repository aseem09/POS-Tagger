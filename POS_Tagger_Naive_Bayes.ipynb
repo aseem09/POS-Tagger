{
 "cells": [
  {
   "cell_type": "code",
   "execution_count": 24,
   "metadata": {
    "id": "IDj9hEazOwOe"
   },
   "outputs": [],
   "source": [
    "from collections import Counter\n",
    "import matplotlib.pyplot as plt\n",
    "import pandas as pd\n",
    "import pprint\n",
    "import os\n",
    "import json\n",
    "import numpy as np\n",
    "import multiprocessing\n",
    "import time\n",
    "from sklearn import metrics\n",
    "import seaborn as sn\n",
    "import xml.etree.ElementTree as ET\n",
    "\n",
    "pp = pprint.PrettyPrinter(indent=4)"
   ]
  },
  {
   "cell_type": "code",
   "execution_count": 25,
   "metadata": {},
   "outputs": [],
   "source": [
    "def list_to_freq_dict(word_tags_list):\n",
    "    word_tags_dict_freq = {}\n",
    "    \n",
    "    for i in word_tags_list:\n",
    "        freq = word_tags_dict_freq.get(i)\n",
    "        \n",
    "        if freq is None:\n",
    "            word_tags_dict_freq[i] = 1\n",
    "        else:\n",
    "            freq = freq + 1\n",
    "            word_tags_dict_freq[i] = freq\n",
    "\n",
    "    return word_tags_dict_freq"
   ]
  },
  {
   "cell_type": "code",
   "execution_count": 26,
   "metadata": {},
   "outputs": [],
   "source": [
    "def parse_data(file):\n",
    "    tree = ET.parse(file)\n",
    "    root = tree.getroot()\n",
    "    word_tags = []\n",
    "    words = []\n",
    "    tags = []\n",
    "\n",
    "    for w_tag in root.iter('w'):\n",
    "        word = w_tag.text.replace(\" \", \"\")\n",
    "        tag = w_tag.attrib['c5']\n",
    "\n",
    "        words.append(word)\n",
    "\n",
    "        if '-' in tag:\n",
    "            tag1 = tag[:3]\n",
    "            tag2 = tag[4:]\n",
    "            word_tag1 = word + '_' + tag1\n",
    "            word_tag2 = word + '_' + tag2\n",
    "\n",
    "            tags.append(tag1)\n",
    "            word_tags.append(word_tag1)\n",
    "            tags.append(tag2)\n",
    "            word_tags.append(word_tag2)\n",
    "\n",
    "        else:\n",
    "            word_tag = word + '_' + tag\n",
    "            tags.append(tag)\n",
    "            word_tags.append(word_tag)\n",
    "    \n",
    "    for mw_tag in root.iter('mw'):\n",
    "        tag = mw_tag.attrib['c5']\n",
    "        word = \"\"\n",
    "        for w_tag in mw_tag.iterfind('w'):     \n",
    "            word += w_tag.text.replace(\" \", \"\")\n",
    "        \n",
    "        words.append(word)\n",
    "\n",
    "        if '-' in tag:\n",
    "            tag1 = tag[:3]\n",
    "            tag2 = tag[4:]\n",
    "            word_tag1 = word + '_' + tag1\n",
    "            word_tag2 = word + '_' + tag2\n",
    "\n",
    "            tags.append(tag1)\n",
    "            word_tags.append(word_tag1)\n",
    "            tags.append(tag2)\n",
    "            word_tags.append(word_tag2)\n",
    "\n",
    "        else:\n",
    "            word_tag = word + '_' + tag\n",
    "            tags.append(tag)\n",
    "            word_tags.append(word_tag)\n",
    "            \n",
    "    for c_tag in root.iter('c'):\n",
    "        tag = c_tag.attrib['c5']\n",
    "        word = c_tag.text.replace(\" \", \"\")\n",
    "        \n",
    "        words.append(word)\n",
    "        \n",
    "        word_tag = word + '_' + tag\n",
    "        tags.append(tag)\n",
    "        word_tags.append(word_tag) \n",
    "\n",
    "    return (words, tags, word_tags)"
   ]
  },
  {
   "cell_type": "code",
   "execution_count": 27,
   "metadata": {},
   "outputs": [],
   "source": [
    "def parse_data_test(file):\n",
    "    tree = ET.parse(file)\n",
    "    root = tree.getroot()\n",
    "    all_tuples = []\n",
    "    \n",
    "    for w_tag in root.iter('w'):\n",
    "        word = w_tag.text.replace(\" \", \"\")\n",
    "        tag = w_tag.attrib['c5']\n",
    "\n",
    "        all_tuples.append((word, tag))\n",
    "\n",
    "    for mw_tag in root.iter('mw'):\n",
    "        tag = mw_tag.attrib['c5']\n",
    "        word = \"\"\n",
    "        for w_tag in mw_tag.iterfind('w'):     \n",
    "            word += w_tag.text.replace(\" \", \"\")\n",
    "        \n",
    "        all_tuples.append((word, tag))\n",
    "    \n",
    "    for c_tag in root.iter('c'):\n",
    "        if c_tag.text is not None:\n",
    "            tag = c_tag.attrib['c5']\n",
    "            word = c_tag.text.replace(\" \", \"\")\n",
    "        \n",
    "            all_tuples.append((word, tag))\n",
    "\n",
    "    return all_tuples"
   ]
  },
  {
   "cell_type": "code",
   "execution_count": 31,
   "metadata": {
    "id": "d61HzncGOwO4"
   },
   "outputs": [],
   "source": [
    "def load_dataset(path, training=True):\n",
    "\n",
    "    if training == True:\n",
    "        word_list = []\n",
    "        tag_list = []\n",
    "        word_tags_list = []\n",
    "        \n",
    "        for subdir, dirs, files in os.walk(path):\n",
    "            for file in files:\n",
    "\n",
    "                fileName = subdir + '/' + str(file)\n",
    "                words, tags, word_tags = parse_data(fileName)\n",
    "\n",
    "                word_list.extend(words)\n",
    "                tag_list.extend(tags)\n",
    "                word_tags_list.extend(word_tags)\n",
    "            \n",
    "        return word_list, tag_list, word_tags_list\n",
    "        \n",
    "    else:\n",
    "        all_tuples = []\n",
    "        \n",
    "        for subdir, dirs, files in os.walk(path):\n",
    "            for file in files:\n",
    "\n",
    "                fileName = subdir + '/' + str(file)\n",
    "                tuples = parse_data_test(fileName)\n",
    "                all_tuples.extend(tuples)\n",
    "\n",
    "        return all_tuples"
   ]
  },
  {
   "cell_type": "code",
   "execution_count": 32,
   "metadata": {
    "id": "I4RHCG32OwO_"
   },
   "outputs": [],
   "source": [
    "# Load Dataset\n",
    "\n",
    "train_path = 'Train-corpus/'\n",
    "test_path = 'Test-corpus/'\n",
    "#\n",
    "word_list, tag_list, word_tags_list = load_dataset(train_path)\n",
    "# test_tuples = load_dataset(test_path, training=False)"
   ]
  },
  {
   "cell_type": "code",
   "execution_count": 35,
   "metadata": {
    "id": "QbCt3FrSOwPH"
   },
   "outputs": [],
   "source": [
    "# Generate Frequency Dict for words\n",
    "\n",
    "word_dict = list_to_freq_dict(word_list)\n",
    "\n",
    "with open('words.json', 'w') as outfile:\n",
    "    json.dump(word_dict, outfile, indent=4)"
   ]
  },
  {
   "cell_type": "code",
   "execution_count": 36,
   "metadata": {
    "id": "svtJIHB1OwPM"
   },
   "outputs": [
    {
     "name": "stdout",
     "output_type": "stream",
     "text": [
      "Top 10 Words are: \n",
      "the  : 525421  \n",
      ",  : 484602  \n",
      ".  : 420804  \n",
      "of  : 285406  \n",
      "to  : 240618  \n",
      "and  : 234301  \n",
      "a  : 198729  \n",
      "in  : 171346  \n",
      "is  : 91155  \n",
      "that  : 86423  \n"
     ]
    }
   ],
   "source": [
    "# Print top 10 words\n",
    "\n",
    "k1 = Counter(word_dict)\n",
    "top_words = k1.most_common(10)\n",
    "print('Top 10 Words are: ')\n",
    "for i in top_words:\n",
    "    print(i[0], \" :\", i[1], \" \")"
   ]
  },
  {
   "cell_type": "code",
   "execution_count": 37,
   "metadata": {
    "id": "B9KDCcnfOwPR"
   },
   "outputs": [
    {
     "data": {
      "image/png": "[encoded data removed]",
      "text/plain": [
       "<Figure size 432x288 with 1 Axes>"
      ]
     },
     "metadata": {
      "needs_background": "light"
     },
     "output_type": "display_data"
    },
    {
     "data": {
      "image/png": "[encoded data removed]",
      "text/plain": [
       "<Figure size 432x288 with 1 Axes>"
      ]
     },
     "metadata": {},
     "output_type": "display_data"
    }
   ],
   "source": [
    "# Plot Top 10 Words\n",
    "\n",
    "keys, values = [i[0] for i in top_words], [i[1] for i in top_words]\n",
    "fig = plt.figure()\n",
    "ax = fig.add_axes([0,0,1,1])\n",
    "ax.bar(keys,values)\n",
    "plt.show()\n",
    "\n",
    "patches, texts = plt.pie(values, labels=keys)\n",
    "plt.legend(patches, keys, loc=\"best\")\n",
    "plt.savefig('words_chart.png')\n",
    "plt.show()"
   ]
  },
  {
   "cell_type": "code",
   "execution_count": 38,
   "metadata": {
    "id": "-Gl-4CVoOwPX"
   },
   "outputs": [],
   "source": [
    "# Generate Frequency Dict for tags\n",
    "\n",
    "tag_dict = list_to_freq_dict(tag_list)\n",
    "with open('tags.json', 'w') as outfile:\n",
    "    json.dump(tag_dict, outfile, indent=4)"
   ]
  },
  {
   "cell_type": "code",
   "execution_count": 39,
   "metadata": {
    "id": "4wq-wlnoOwPb"
   },
   "outputs": [
    {
     "name": "stdout",
     "output_type": "stream",
     "text": [
      "Top 10 Tags are: \n",
      "NN1  : 1574536  \n",
      "PUN  : 1014364  \n",
      "AT0  : 848311  \n",
      "PRP  : 835309  \n",
      "AJ0  : 748904  \n",
      "NN2  : 524765  \n",
      "NP0  : 505272  \n",
      "AV0  : 446396  \n",
      "PNP  : 360704  \n",
      "CJC  : 317635  \n"
     ]
    }
   ],
   "source": [
    "# Print Top 10 Tags\n",
    "\n",
    "k1 = Counter(tag_dict)\n",
    "top_tags = k1.most_common(10)\n",
    "print('Top 10 Tags are: ')\n",
    "for i in top_tags:\n",
    "    print(i[0], \" :\", i[1], \" \")"
   ]
  },
  {
   "cell_type": "code",
   "execution_count": 40,
   "metadata": {
    "id": "3_82e3ZnOwPf"
   },
   "outputs": [
    {
     "data": {
      "image/png": "[encoded data removed]",
      "text/plain": [
       "<Figure size 432x288 with 1 Axes>"
      ]
     },
     "metadata": {
      "needs_background": "light"
     },
     "output_type": "display_data"
    },
    {
     "data": {
      "image/png": "[encoded data removed]",
      "text/plain": [
       "<Figure size 432x288 with 1 Axes>"
      ]
     },
     "metadata": {},
     "output_type": "display_data"
    }
   ],
   "source": [
    "# Plot Top 10 Tags\n",
    "\n",
    "keys, values = [i[0] for i in top_tags], [i[1] for i in top_tags]\n",
    "fig = plt.figure()\n",
    "ax = fig.add_axes([0,0,1,1])\n",
    "ax.bar(keys,values)\n",
    "plt.show()\n",
    "\n",
    "patches, texts = plt.pie(values, labels=keys)\n",
    "plt.legend(patches, keys, loc=\"best\")\n",
    "plt.savefig('tags_chart.png')\n",
    "plt.show()"
   ]
  },
  {
   "cell_type": "code",
   "execution_count": 41,
   "metadata": {
    "id": "37JGfbt4OwPj"
   },
   "outputs": [],
   "source": [
    "# Generate Frequency Dict for word_tags\n",
    "\n",
    "word_tags_dict = list_to_freq_dict(word_tags_list)\n",
    "with open('word_tags.json', 'w') as outfile:\n",
    "    json.dump(word_tags_dict, outfile, indent=4)"
   ]
  },
  {
   "cell_type": "code",
   "execution_count": 3,
   "metadata": {
    "id": "dkES1f_ROwPn"
   },
   "outputs": [],
   "source": [
    "# Load JSON Files\n",
    "\n",
    "with open('words.json') as f:\n",
    "    word_dict = json.load(f)\n",
    "with open('tags.json') as f:\n",
    "    tag_dict = json.load(f)\n",
    "with open('word_tags.json') as f:\n",
    "    word_tags_dict = json.load(f)"
   ]
  },
  {
   "cell_type": "code",
   "execution_count": 9,
   "metadata": {
    "id": "R6XVaCmZOwPs"
   },
   "outputs": [
    {
     "name": "stdout",
     "output_type": "stream",
     "text": [
      "61\n",
      "193511\n",
      "253488\n"
     ]
    }
   ],
   "source": [
    "print(len(tag_dict))\n",
    "print(len(word_dict))\n",
    "print(len(word_tags_dict))"
   ]
  },
  {
   "cell_type": "code",
   "execution_count": 10,
   "metadata": {
    "id": "cUiy1SUuOwPw"
   },
   "outputs": [],
   "source": [
    "# Use Laplace Smoothing\n",
    "def probability_word_given_tag(word, tag):\n",
    "    \n",
    "    count_tag = tag_dict[tag]\n",
    "    \n",
    "    if word+'_'+tag in word_tags_dict.keys():\n",
    "        count_word_tag = word_tags_dict[word+'_'+tag]\n",
    "\n",
    "        return (count_word_tag)/(count_tag)\n",
    "    \n",
    "    else:\n",
    "        return 1/(count_tag + 1)"
   ]
  },
  {
   "cell_type": "code",
   "execution_count": 11,
   "metadata": {
    "id": "69H2aShNOwPz",
    "outputId": "c8736a81-ba0a-4cbb-d5af-da21724fd125"
   },
   "outputs": [
    {
     "name": "stdout",
     "output_type": "stream",
     "text": [
      "0.23395311389337164\n"
     ]
    }
   ],
   "source": [
    "print(probability_word_given_tag('a','AT0'))"
   ]
  },
  {
   "cell_type": "code",
   "execution_count": 12,
   "metadata": {
    "id": "JWnaks2hOwP6"
   },
   "outputs": [],
   "source": [
    "def best_tag_for_word(word):\n",
    "    max_prob = 0\n",
    "    most_prob_tag = 'none'\n",
    "    for tag in tag_dict.keys():\n",
    "        p_word_tag = probability_word_given_tag(word,tag)\n",
    "        p_tag = tag_dict[tag]\n",
    "        \n",
    "        p_tag_word = (p_word_tag*p_tag)\n",
    "        \n",
    "        if max_prob < p_tag_word:\n",
    "            max_prob = p_tag_word\n",
    "            most_prob_tag = tag\n",
    "    \n",
    "    return most_prob_tag"
   ]
  },
  {
   "cell_type": "code",
   "execution_count": 13,
   "metadata": {
    "id": "KRGvBbCxOwP8"
   },
   "outputs": [],
   "source": [
    "def create_model():\n",
    "    model = {}\n",
    "    for word in word_dict.keys():\n",
    "        model[word] = best_tag_for_word(word)\n",
    "    return model"
   ]
  },
  {
   "cell_type": "code",
   "execution_count": 14,
   "metadata": {
    "id": "3HPBQi44OwQA"
   },
   "outputs": [],
   "source": [
    "model = create_model()"
   ]
  },
  {
   "cell_type": "code",
   "execution_count": 23,
   "metadata": {
    "id": "HC-NX6gxOwQE"
   },
   "outputs": [
    {
     "name": "stdout",
     "output_type": "stream",
     "text": [
      "NN2\n"
     ]
    }
   ],
   "source": [
    "print(model[\"communities\"])"
   ]
  },
  {
   "cell_type": "code",
   "execution_count": 16,
   "metadata": {
    "id": "DnoXJnQfOwQH"
   },
   "outputs": [
    {
     "name": "stdout",
     "output_type": "stream",
     "text": [
      "4159247\n"
     ]
    }
   ],
   "source": [
    "print(len(test_tuples))"
   ]
  },
  {
   "cell_type": "code",
   "execution_count": 17,
   "metadata": {
    "id": "MrXbeOeYOwQK"
   },
   "outputs": [],
   "source": [
    "def check_prediction(word_tuple):\n",
    "    \n",
    "    word, label = word_tuple\n",
    "    logit = best_tag_for_word(word)\n",
    "    if logit in label:\n",
    "        return True\n",
    "    else:\n",
    "        return False"
   ]
  },
  {
   "cell_type": "code",
   "execution_count": 20,
   "metadata": {
    "id": "afbkH-cQOwQM"
   },
   "outputs": [],
   "source": [
    "def get_model_accuracy(test_tuples):\n",
    "    \n",
    "    correct = 0\n",
    "    incorrect = 0\n",
    "    \n",
    "    err = 0\n",
    "    \n",
    "    print(\"Total: %d\" % len(test_tuples))\n",
    "    \n",
    "    t0 = time.process_time()\n",
    "    \n",
    "    for i in range(0,len(test_tuples)):\n",
    "        \n",
    "        word, label = test_tuples[i]\n",
    "        \n",
    "        if word in model.keys():\n",
    "            if model[word] in label:\n",
    "                correct = correct + 1\n",
    "            else:\n",
    "                \n",
    "                incorrect = incorrect + 1\n",
    "        \n",
    "        else:\n",
    "            err = err + 1\n",
    "            if best_tag_for_word(word) in label:\n",
    "                correct = correct + 1\n",
    "            else:\n",
    "                incorrect = incorrect + 1\n",
    "                \n",
    "        \n",
    "    print(\"Evaluated: %d \" % (incorrect + correct))    \n",
    "    print(\"Time Taken: %.2f \\n \" % (time.process_time()-t0))\n",
    "    print(\"Correct: %d \" % (correct))   \n",
    "    print(\"Incorrect: %d \" % (incorrect))  \n",
    "    \n",
    "    print(\"Final Accuracy = %.06f\"  % (correct/(correct+incorrect)))\n",
    "    print(\"Errors: %d \" % err)"
   ]
  },
  {
   "cell_type": "code",
   "execution_count": 21,
   "metadata": {
    "colab": {
     "base_uri": "https://localhost:8080/"
    },
    "id": "sRJ6j2wwOwQR",
    "outputId": "e9a9c3de-b95f-4035-8846-bb51a7b15f37"
   },
   "outputs": [
    {
     "name": "stdout",
     "output_type": "stream",
     "text": [
      "Total: 4159247\n",
      "Evaluated: 4159247 \n",
      "Time Taken: 2.80 \n",
      " \n",
      "Correct: 3840459 \n",
      "Incorrect: 318788 \n",
      "Final Accuracy = 0.923354\n",
      "Errors: 65512 \n"
     ]
    }
   ],
   "source": [
    "get_model_accuracy(test_tuples)"
   ]
  },
  {
   "cell_type": "code",
   "execution_count": 37,
   "metadata": {
    "id": "YKZ5CK3SOwQU"
   },
   "outputs": [],
   "source": [
    "tags = list(tag_dict.keys())\n",
    "def get_confusion_matrix(test_tuples):\n",
    "    y_true = []\n",
    "    y_pred = []\n",
    "    for i in range(0,len(test_tuples)):\n",
    "        word, label = test_tuples[i]\n",
    "        y_true.append(label)\n",
    "        if word in model.keys():\n",
    "            y_pred.append(model[word])\n",
    "        else:\n",
    "            y_pred.append(best_tag_for_word(word))\n",
    "    plt.figure(figsize=(25, 22), dpi=10)\n",
    "    df_cm = pd.DataFrame(metrics.confusion_matrix(y_true, y_pred, tags), tag_dict.keys(), tag_dict.keys())\n",
    "    sn.set(font_scale=1.0)\n",
    "    sn.heatmap(df_cm, annot=True, annot_kws={\"size\": 5}) # font size\n",
    "    # plt.show()\n",
    "    # plt.savefig('confusion_matrix.png')\n",
    "    plt.savefig('cm.png', format='png', dpi=200)\n",
    "    # print(metrics.confusion_matrix(y_true, y_pred))"
   ]
  },
  {
   "cell_type": "code",
   "execution_count": 38,
   "metadata": {
    "colab": {
     "base_uri": "https://localhost:8080/"
    },
    "id": "C0N_L59hOwQY",
    "outputId": "d1b007b8-a759-4255-956d-65617dfe52c8",
    "scrolled": true
   },
   "outputs": [
    {
     "data": {
      "image/png": "[encoded data removed]",
      "text/plain": [
       "<Figure size 250x220 with 2 Axes>"
      ]
     },
     "metadata": {},
     "output_type": "display_data"
    }
   ],
   "source": [
    "get_confusion_matrix(test_tuples)"
   ]
  }
 ],
 "metadata": {
  "colab": {
   "name": "POS-Tagger.ipynb",
   "provenance": []
  },
  "kernelspec": {
   "display_name": "Python 3",
   "language": "python",
   "name": "python3"
  },
  "language_info": {
   "codemirror_mode": {
    "name": "ipython",
    "version": 3
   },
   "file_extension": ".py",
   "mimetype": "text/x-python",
   "name": "python",
   "nbconvert_exporter": "python",
   "pygments_lexer": "ipython3",
   "version": "3.8.3"
  }
 },
 "nbformat": 4,
 "nbformat_minor": 1
}
