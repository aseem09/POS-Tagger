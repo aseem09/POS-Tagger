{
  "nbformat": 4,
  "nbformat_minor": 0,
  "metadata": {
    "kernelspec": {
      "display_name": "Python 3",
      "language": "python",
      "name": "python3"
    },
    "language_info": {
      "codemirror_mode": {
        "name": "ipython",
        "version": 3
      },
      "file_extension": ".py",
      "mimetype": "text/x-python",
      "name": "python",
      "nbconvert_exporter": "python",
      "pygments_lexer": "ipython3",
      "version": "3.8.3"
    },
    "colab": {
      "name": "POS-Tagger-HMM.ipynb",
      "provenance": [],
      "collapsed_sections": []
    }
  },
  "cells": [
    {
      "cell_type": "code",
      "metadata": {
        "id": "2Sbq6xDXIj0T"
      },
      "source": [
        "import xml.etree.ElementTree as ET\n",
        "from collections import Counter\n",
        "import matplotlib.pyplot as plt\n",
        "import pandas as pd\n",
        "import pprint\n",
        "import pickle\n",
        "import os\n",
        "import json\n",
        "import numpy as np\n",
        "import multiprocessing\n",
        "import time\n",
        "from numpy import asarray\n",
        "from numpy import savetxt\n",
        "pp = pprint.PrettyPrinter(indent=4)"
      ],
      "execution_count": 1,
      "outputs": []
    },
    {
      "cell_type": "code",
      "metadata": {
        "id": "-LzLsddKIj0U"
      },
      "source": [
        "import operator\n",
        "\n",
        "def get_column(list_, n):\n",
        "    return map(operator.itemgetter(n), list_)"
      ],
      "execution_count": 2,
      "outputs": []
    },
    {
      "cell_type": "code",
      "metadata": {
        "id": "rm9MeicGIj0U"
      },
      "source": [
        "def parse_data(file):\n",
        "    \n",
        "    tree = ET.parse(file)\n",
        "    root = tree.getroot()\n",
        "    \n",
        "    data = []\n",
        "    labels = []\n",
        "    \n",
        "    for s_tag in root.iter('s'):\n",
        "        \n",
        "        sentence = []\n",
        "        tags = []\n",
        "        \n",
        "        for e_tag in s_tag:\n",
        "            \n",
        "            if e_tag.tag == 'w':\n",
        "                word = e_tag.text.replace(\" \", \"\")\n",
        "                tag = e_tag.attrib['c5']\n",
        "                    \n",
        "                sentence.append(word)\n",
        "                tags.append(tag)\n",
        "                \n",
        "            elif e_tag.tag == 'c':\n",
        "                if e_tag.text is not None:\n",
        "                    tag = e_tag.attrib['c5']\n",
        "                    word = e_tag.text.replace(\" \", \"\")\n",
        "                    \n",
        "                    sentence.append(word)\n",
        "                    tags.append(tag)\n",
        "                    \n",
        "            elif e_tag.tag == 'mw':\n",
        "                tag = e_tag.attrib['c5']\n",
        "                word = \"\"\n",
        "                for w_tag in e_tag.iterfind('w'):     \n",
        "                    word += w_tag.text.replace(\" \", \"\")\n",
        "                \n",
        "                sentence.append(word)\n",
        "                tags.append(tag)\n",
        "                \n",
        "            elif e_tag.tag == 'hi':\n",
        "                \n",
        "                for w_tag in e_tag.iterfind('w'):     \n",
        "                    word = w_tag.text.replace(\" \", \"\")\n",
        "                    tag = w_tag.attrib['c5']\n",
        "                        \n",
        "                    sentence.append(word)\n",
        "                    tags.append(tag)\n",
        "                \n",
        "        data.append(sentence)\n",
        "        labels.append(tags)\n",
        "\n",
        "    return data, labels"
      ],
      "execution_count": 3,
      "outputs": []
    },
    {
      "cell_type": "code",
      "metadata": {
        "id": "5QpNALZSIj0U"
      },
      "source": [
        "def load_dataset(path):\n",
        "\n",
        "    data = []\n",
        "    labels = []\n",
        "\n",
        "    for subdir, dirs, files in os.walk(path):\n",
        "        for file in files:\n",
        "\n",
        "            fileName = subdir + '/' + str(file)\n",
        "            file_data, file_labels = parse_data(fileName)\n",
        "            data.extend(file_data)\n",
        "            labels.extend(file_labels)\n",
        "\n",
        "    return data, labels"
      ],
      "execution_count": 4,
      "outputs": []
    },
    {
      "cell_type": "code",
      "metadata": {
        "id": "lfD563pVIj0U"
      },
      "source": [
        "# Load Dataset\n",
        "\n",
        "train_path = 'Train-corpus/'\n",
        "test_path = 'Test-corpus/'\n",
        "\n",
        "data, labels = load_dataset(train_path)\n",
        "test_data, test_labels = load_dataset(test_path)"
      ],
      "execution_count": 5,
      "outputs": []
    },
    {
      "cell_type": "code",
      "metadata": {
        "scrolled": true,
        "colab": {
          "base_uri": "https://localhost:8080/"
        },
        "id": "utQnqd6EIj0U",
        "outputId": "4d0faee0-87c6-44c8-fc9e-ab8ef8803687"
      },
      "source": [
        "print(len(data))\n",
        "print(len(labels))\n",
        "\n",
        "print(data[0])\n",
        "print(labels[0])\n",
        "\n",
        "print(len(test_data))\n",
        "print(len(test_labels))\n",
        "\n",
        "print(test_data[11])\n",
        "print(test_labels[11])"
      ],
      "execution_count": 6,
      "outputs": [
        {
          "output_type": "stream",
          "text": [
            "IOPub data rate exceeded.\n",
            "The notebook server will temporarily stop sending output\n",
            "to the client in order to avoid crashing it.\n",
            "To change this limit, set the config variable\n",
            "`--NotebookApp.iopub_data_rate_limit`.\n",
            "\n",
            "Current values:\n",
            "NotebookApp.iopub_data_rate_limit=10.0 (bytes/sec)\n",
            "NotebookApp.rate_limit_window=3.0 (secs)\n",
            "\n"
          ],
          "name": "stderr"
        }
      ]
    },
    {
      "cell_type": "code",
      "metadata": {
        "id": "dkES1f_ROwPn"
      },
      "source": [
        "# Load JSON Files\n",
        "\n",
        "with open('words.json') as f:\n",
        "    word_dict = json.load(f)\n",
        "with open('tags.json') as f:\n",
        "    tag_dict = json.load(f)\n",
        "with open('word_tags.json') as f:\n",
        "    word_tags_dict = json.load(f)"
      ],
      "execution_count": 6,
      "outputs": []
    },
    {
      "cell_type": "code",
      "metadata": {
        "id": "R6XVaCmZOwPs",
        "colab": {
          "base_uri": "https://localhost:8080/"
        },
        "outputId": "9c487106-7292-462d-affc-12c5ae84266d"
      },
      "source": [
        "print(len(tag_dict))\n",
        "print(len(word_dict))\n",
        "print(len(word_tags_dict))"
      ],
      "execution_count": 8,
      "outputs": [
        {
          "output_type": "stream",
          "text": [
            "IOPub data rate exceeded.\n",
            "The notebook server will temporarily stop sending output\n",
            "to the client in order to avoid crashing it.\n",
            "To change this limit, set the config variable\n",
            "`--NotebookApp.iopub_data_rate_limit`.\n",
            "\n",
            "Current values:\n",
            "NotebookApp.iopub_data_rate_limit=10.0 (bytes/sec)\n",
            "NotebookApp.rate_limit_window=3.0 (secs)\n",
            "\n"
          ],
          "name": "stderr"
        }
      ]
    },
    {
      "cell_type": "code",
      "metadata": {
        "id": "Lwq6kxsqIj0V"
      },
      "source": [
        "def compute_word_tag_freq_matrix():\n",
        "    \n",
        "    rows = len(word_dict.keys())\n",
        "    cols = len(tag_dict.keys())\n",
        "    \n",
        "    mat = [[0 for i in range(cols)] for j in range(rows)] \n",
        "    \n",
        "    i=0\n",
        "    for word in word_dict.keys():\n",
        "        j=0\n",
        "        for tag in tag_dict.keys():\n",
        "            case = word + \"_\" + tag\n",
        "            if case in word_tags_dict.keys():\n",
        "                mat[i][j] = word_tags_dict[case]\n",
        "            j = j + 1\n",
        "        i = i + 1\n",
        "        \n",
        "    return mat"
      ],
      "execution_count": 7,
      "outputs": []
    },
    {
      "cell_type": "code",
      "metadata": {
        "id": "fTZCbh_dIj0V"
      },
      "source": [
        "freq_matrix = compute_word_tag_freq_matrix()\n",
        "savetxt('freq_matrix.csv', freq_matrix, delimiter=',')"
      ],
      "execution_count": 8,
      "outputs": []
    },
    {
      "cell_type": "code",
      "metadata": {
        "id": "8CqThn1vIj0W"
      },
      "source": [
        "def compute_emission_prob_matrix(freq):\n",
        "    rows = len(freq_matrix)\n",
        "    cols = len(freq_matrix[0])\n",
        "    mat = freq\n",
        "    \n",
        "    for j in range(0, cols):\n",
        "        col_slice = list(get_column(mat, j))\n",
        "        total = sum(col_slice)\n",
        "        for i in range(rows):\n",
        "            mat[i][j] = mat[i][j]/total\n",
        "    \n",
        "    return mat"
      ],
      "execution_count": 9,
      "outputs": []
    },
    {
      "cell_type": "code",
      "metadata": {
        "id": "VSlaZA_xIj0X"
      },
      "source": [
        "emission_mat = compute_emission_prob_matrix(freq_matrix)\n",
        "savetxt('emission_mat.csv', emission_mat, delimiter=',')"
      ],
      "execution_count": 10,
      "outputs": []
    },
    {
      "cell_type": "code",
      "metadata": {
        "colab": {
          "base_uri": "https://localhost:8080/"
        },
        "id": "66SH1AP2Ij0X",
        "outputId": "167a7cbf-df0a-4546-bd05-d5e774eedfb3"
      },
      "source": [
        "tags_index_dict = dict(zip(list(tag_dict.keys()),range(0, len(tag_dict.keys()))))\n",
        "word_index_dict = dict(zip(list(word_dict.keys()),range(0, len(word_dict.keys()))))\n",
        "tags_inv_dict = {v: k for k, v in tags_index_dict.items()}\n",
        "word_inv_dict = {v: k for k, v in word_index_dict.items()}\n",
        "print(tags_index_dict)"
      ],
      "execution_count": 11,
      "outputs": [
        {
          "output_type": "stream",
          "text": [
            "IOPub data rate exceeded.\n",
            "The notebook server will temporarily stop sending output\n",
            "to the client in order to avoid crashing it.\n",
            "To change this limit, set the config variable\n",
            "`--NotebookApp.iopub_data_rate_limit`.\n",
            "\n",
            "Current values:\n",
            "NotebookApp.iopub_data_rate_limit=10.0 (bytes/sec)\n",
            "NotebookApp.rate_limit_window=3.0 (secs)\n",
            "\n"
          ],
          "name": "stderr"
        }
      ]
    },
    {
      "cell_type": "code",
      "metadata": {
        "id": "EtZkdB-gIj0X"
      },
      "source": [
        "def get_index(tag, isPrev=True):\n",
        "    if tag == \"start\":\n",
        "        return [0]\n",
        "    if tag == \"end\":\n",
        "        return [len(tags_index_dict.keys())]\n",
        "    if \"-\" in tag:\n",
        "        a1 = tags_index_dict[tag[:3]]\n",
        "        a2 = tags_index_dict[tag[4:]]\n",
        "        return [a1, a2]\n",
        "    else:\n",
        "        a = tags_index_dict[tag]\n",
        "        return [a]"
      ],
      "execution_count": 12,
      "outputs": []
    },
    {
      "cell_type": "code",
      "metadata": {
        "id": "rEEzgXwHIj0X"
      },
      "source": [
        "def compute_tag_tag_frequency_matrix(data, labels):\n",
        "    \n",
        "    rows = len(tag_dict.keys()) + 1\n",
        "    cols = len(tag_dict.keys()) + 1\n",
        "    \n",
        "    mat = [[0 for i in range(cols)] for j in range(rows)] \n",
        "    \n",
        "    i=0\n",
        "    for sentence in data:\n",
        "        prev_tag = \"start\"\n",
        "        curr_tag = \"start\"\n",
        "        \n",
        "        j=0\n",
        "        for word in sentence:\n",
        "            prev_tag = curr_tag\n",
        "            curr_tag = labels[i][j]\n",
        "            \n",
        "            prev_index = get_index(prev_tag)\n",
        "            curr_index = get_index(curr_tag)\n",
        "            \n",
        "            a1=0\n",
        "            a2=0\n",
        "            b1=0\n",
        "            b2=0\n",
        "            \n",
        "            if len(prev_index) == 1:\n",
        "                a = prev_index[0]\n",
        "                if prev_tag != \"start\":\n",
        "                    a = a + 1\n",
        "                if len(curr_index) == 1:\n",
        "                    b = curr_index[0]\n",
        "                    mat[a][b] = mat[a][b] + 1\n",
        "                else:\n",
        "                    b1 = curr_index[0]\n",
        "                    b2 = curr_index[1]\n",
        "                    mat[a][b1] = mat[a][b1] + 1\n",
        "                    mat[a][b2] = mat[a][b2] + 1\n",
        "                    \n",
        "            else:\n",
        "                a1 = prev_index[0] + 1\n",
        "                a2 = prev_index[1] + 1\n",
        "                if len(curr_index) == 1:\n",
        "                    b = curr_index[0]\n",
        "                    mat[a1][b] = mat[a1][b] + 1\n",
        "                    mat[a2][b] = mat[a2][b] + 1\n",
        "                    \n",
        "                else:\n",
        "                    b1 = curr_index[0]\n",
        "                    b2 = curr_index[1]\n",
        "                    mat[a1][b1] = mat[a1][b1] + 1\n",
        "                    mat[a1][b2] = mat[a1][b2] + 1\n",
        "                    mat[a2][b1] = mat[a2][b1] + 1\n",
        "                    mat[a2][b2] = mat[a2][b2] + 1\n",
        "            \n",
        "            j=j+1\n",
        "            \n",
        "        curr_index = get_index(curr_tag)\n",
        "        \n",
        "        if len(curr_index) == 1:\n",
        "            b = curr_index[0] + 1\n",
        "            mat[b][61] = mat[b][61] + 1\n",
        "        else:\n",
        "            b1 = curr_index[0] + 1\n",
        "            b2 = curr_index[1] + 1\n",
        "            mat[b1][61] = mat[b1][61] + 1\n",
        "            mat[b2][61] = mat[b2][61] + 1\n",
        "            \n",
        "        i=i+1\n",
        "        \n",
        "    return mat"
      ],
      "execution_count": 13,
      "outputs": []
    },
    {
      "cell_type": "code",
      "metadata": {
        "id": "zWhRt0OhIj0X"
      },
      "source": [
        "tag_tag_freq_matrix = compute_tag_tag_frequency_matrix(data, labels)\n",
        "savetxt('tag_tag_matrix.csv',tag_tag_freq_matrix, delimiter=',')"
      ],
      "execution_count": 14,
      "outputs": []
    },
    {
      "cell_type": "code",
      "metadata": {
        "id": "R2HWnRauIj0X"
      },
      "source": [
        "def compute_transition_prob_matrix(freq):\n",
        "    rows = len(freq)\n",
        "    cols = len(freq[0])\n",
        "    \n",
        "    mat = np.array(freq, dtype=float)\n",
        "    \n",
        "    for i in range(0, rows):\n",
        "        \n",
        "        total = float(sum(mat[i]))\n",
        "        if total == 0:\n",
        "            total = 1\n",
        "            \n",
        "        mat[i] = [x/total for x in mat[i]]\n",
        "            \n",
        "    return mat"
      ],
      "execution_count": 15,
      "outputs": []
    },
    {
      "cell_type": "code",
      "metadata": {
        "id": "shjbRkjkIj0X"
      },
      "source": [
        "transition_mat = compute_transition_prob_matrix(tag_tag_freq_matrix)\n",
        "savetxt('transition_matrix.csv', transition_mat, delimiter=',')"
      ],
      "execution_count": 16,
      "outputs": []
    },
    {
      "cell_type": "code",
      "metadata": {
        "id": "i1ccMioeIj0X"
      },
      "source": [
        "possible_tags = {}\n",
        "count = 0\n",
        "\n",
        "def compute_possible_combinations(data, labels):\n",
        "    \n",
        "    for i, sentence in enumerate(data):\n",
        "        for j, word in enumerate(sentence):\n",
        "            label = labels[i][j]\n",
        "            \n",
        "            if \"-\" in label:\n",
        "                l1 = label[:3]\n",
        "                l2 = label[4:]\n",
        "                try:\n",
        "                    if l1 not in possible_tags[word]:\n",
        "                        possible_tags[word].append(l1)\n",
        "                    if l2 not in possible_tags[word]:\n",
        "                        possible_tags[word].append(l2)\n",
        "                except:\n",
        "                    init = []\n",
        "                    init.append(l1)\n",
        "                    init.append(l2)\n",
        "                    possible_tags[word] = init\n",
        "            else:\n",
        "                try:\n",
        "                    if label not in possible_tags[word]:\n",
        "                        possible_tags[word].append(label)\n",
        "                except:\n",
        "                    init = []\n",
        "                    init.append(label)\n",
        "                    possible_tags[word] = init\n",
        "            \n",
        "compute_possible_combinations(data, labels)\n",
        "compute_possible_combinations(test_data, test_labels)"
      ],
      "execution_count": 17,
      "outputs": []
    },
    {
      "cell_type": "code",
      "metadata": {
        "id": "p0ZEeFF3Ij0X"
      },
      "source": [
        "# Use Laplace Smoothing\n",
        "def probability_word_given_tag(word, tag):\n",
        "    \n",
        "    count_tag = tag_dict[tag]\n",
        "    \n",
        "    if word+'_'+tag in word_tags_dict.keys():\n",
        "        count_word_tag = word_tags_dict[word+'_'+tag]\n",
        "\n",
        "        return (count_word_tag)/(count_tag)\n",
        "    \n",
        "    else:\n",
        "        return 1/(count_tag + 1)"
      ],
      "execution_count": 18,
      "outputs": []
    },
    {
      "cell_type": "code",
      "metadata": {
        "id": "QPdLC9XpIj0X"
      },
      "source": [
        "def Viterbi(sentence):\n",
        "    predicted = []\n",
        "    cache = {}\n",
        "    for index, word in enumerate(sentence):\n",
        "        if index == 0:\n",
        "            cache[index] = {}\n",
        "            tags = possible_tags[word]\n",
        "            for tag in tags:\n",
        "\n",
        "                if word in word_dict.keys():\n",
        "                    word_index = word_index_dict[word]\n",
        "                    tag_index = tags_index_dict[tag]\n",
        "\n",
        "                    cache[index][tag] = ['##', transition_mat[0][tag_index] * emission_mat[word_index][tag_index]]\n",
        "\n",
        "                else:\n",
        "                    tag_index = tags_index_dict[tag]\n",
        "                    cache[index][tag] = ['##', transition_mat[0][tag_index] * probability_word_given_tag(word, tag)]\n",
        "\n",
        "        else:\n",
        "            cache[index] = {}\n",
        "            prev_states = list(cache[index-1].keys())\n",
        "\n",
        "            tags = possible_tags[word]\n",
        "            for tag in tags:\n",
        "                temp = []\n",
        "                for prev_state in prev_states:\n",
        "                    case = word + \"_\" + tag\n",
        "                            \n",
        "                    if word in word_dict.keys():\n",
        "                        word_index = word_index_dict[word]\n",
        "                        curr_index = tags_index_dict[tag]\n",
        "                        prev_index = tags_index_dict[prev_state]+1\n",
        "\n",
        "                        temp.append(cache[index-1][prev_state][1] * transition_mat[prev_index][curr_index] * emission_mat[word_index][curr_index])\n",
        "                    else:\n",
        "                        curr_index = tags_index_dict[tag]\n",
        "                        prev_index = tags_index_dict[prev_state]+1\n",
        "                        temp.append(cache[index-1][prev_state][1] * transition_mat[prev_index][curr_index] * probability_word_given_tag(word, tag))\n",
        "                        \n",
        "                max_temp_index = temp.index(max(temp))\n",
        "                best_prev_tag = prev_states[max_temp_index]\n",
        "                cache[index][tag] = [best_prev_tag, max(temp)]\n",
        "    \n",
        "    index = len(sentence)\n",
        "    cache[index] = {}\n",
        "    prev_states = list(cache[index-1].keys())\n",
        "    \n",
        "    temp = []\n",
        "    for prev_state in prev_states:\n",
        "\n",
        "        curr_index = 61\n",
        "        prev_index = tags_index_dict[prev_state] + 1\n",
        "\n",
        "        temp.append(cache[index-1][prev_state][1] * transition_mat[prev_index][curr_index])   \n",
        "\n",
        "    max_temp_index = temp.index(max(temp))\n",
        "    best_prev_tag = prev_states[max_temp_index]\n",
        "    cache[index]['&&'] = [best_prev_tag, max(temp)]\n",
        "\n",
        "    # Backtracing to extract the best possible tags for the \n",
        "    pred_tags = []\n",
        "    all_word_index = cache.keys()\n",
        "    last_word_index = max(all_word_index)\n",
        "    \n",
        "    for index in range(len(all_word_index)):\n",
        "        \n",
        "        word_index = last_word_index - index\n",
        "        \n",
        "        if word_index == last_word_index:\n",
        "            pred_tags.append(cache[word_index]['&&'][0])\n",
        "            \n",
        "        if word_index < last_word_index and word_index > 0:\n",
        "            pred_tags.append(cache[word_index][pred_tags[len(pred_tags)-1]][0])\n",
        "            \n",
        "    predicted.append(list(reversed(pred_tags)))\n",
        "\n",
        "    return predicted[0]"
      ],
      "execution_count": 19,
      "outputs": []
    },
    {
      "cell_type": "code",
      "metadata": {
        "colab": {
          "base_uri": "https://localhost:8080/"
        },
        "id": "3fhhdah6Ij0X",
        "outputId": "3e3b44b2-6667-4749-8e2f-4ec807c03eb8"
      },
      "source": [
        "print(Viterbi(['These', '‘', 'communities', '’', 'are', 'of', 'two', 'kinds', '.']))\n",
        "print(Viterbi(['Average', 'foot', 'position', 'for', '11', 'stone', '(', '70kg', ')', 'sailors', '.']))\n",
        "\n",
        "# ['DT0', 'PUQ', 'NN2', 'PUQ', 'VBB', 'PRF', 'CRD', 'NN2', 'PUN']\n",
        "# ['AJ0', 'NN1', 'NN1', 'PRP', 'CRD', 'NN1', 'PUL', 'NN0', 'PUR', 'NN2', 'PUN']"
      ],
      "execution_count": 22,
      "outputs": [
        {
          "output_type": "stream",
          "text": [
            "IOPub data rate exceeded.\n",
            "The notebook server will temporarily stop sending output\n",
            "to the client in order to avoid crashing it.\n",
            "To change this limit, set the config variable\n",
            "`--NotebookApp.iopub_data_rate_limit`.\n",
            "\n",
            "Current values:\n",
            "NotebookApp.iopub_data_rate_limit=10.0 (bytes/sec)\n",
            "NotebookApp.rate_limit_window=3.0 (secs)\n",
            "\n"
          ],
          "name": "stderr"
        }
      ]
    },
    {
      "cell_type": "code",
      "metadata": {
        "id": "Nylw27xoIj0X"
      },
      "source": [
        "def get_predictions(data):\n",
        "    pred = []\n",
        "    for index, sentence in enumerate(data):\n",
        "        if len(sentence) != 0:\n",
        "            pred.append(Viterbi(sentence))\n",
        "        else:\n",
        "            pred.append([])\n",
        "        # if ((index+1) % 10000==0):\n",
        "            # print(\"Predicted: %d \" % (index+1))  \n",
        "    return pred"
      ],
      "execution_count": 26,
      "outputs": []
    },
    {
      "cell_type": "code",
      "metadata": {
        "scrolled": true,
        "id": "kjbpc5g1Ij0X"
      },
      "source": [
        "preds = get_predictions(test_data)"
      ],
      "execution_count": 27,
      "outputs": []
    },
    {
      "cell_type": "code",
      "metadata": {
        "id": "WecXwo3mIj0X"
      },
      "source": [
        "def get_accuracy(test_data, test_labels, preds):\n",
        "    \n",
        "    correct = 0\n",
        "    incorrect = 0\n",
        "    \n",
        "    # print(\"Total: %d\" % len(test_data))\n",
        "    \n",
        "    t0 = time.process_time()\n",
        "    \n",
        "    for index, pred_labels in enumerate(preds):\n",
        "        true_labels = test_labels[index]\n",
        "        \n",
        "        for i, pred_label in enumerate(pred_labels):\n",
        "            if pred_label in true_labels[i]:\n",
        "                correct = correct + 1\n",
        "            else:\n",
        "                incorrect = incorrect + 1\n",
        "                \n",
        "    # print(\"Evaluated Words: %d \" % (incorrect + correct))   \n",
        "    # print(\"Correct: %d \" % (correct))   \n",
        "    # print(\"Incorrect: %d \" % (incorrect))   \n",
        "    # print(\"Time Taken: %.2f \\n \" % (time.process_time()-t0))\n",
        "    \n",
        "    # print(\"Final Accuracy = %.06f\"  % (correct/(correct+incorrect)))"
      ],
      "execution_count": 28,
      "outputs": []
    },
    {
      "cell_type": "code",
      "metadata": {
        "id": "x7cX37MgIj0X"
      },
      "source": [
        "get_accuracy(test_data, test_labels, preds)"
      ],
      "execution_count": 29,
      "outputs": []
    },
    {
      "cell_type": "code",
      "metadata": {
        "id": "q01Jfcj_O6sB"
      },
      "source": [
        ""
      ],
      "execution_count": null,
      "outputs": []
    },
    {
      "cell_type": "code",
      "metadata": {
        "id": "7aLEXUw2KRc6"
      },
      "source": [
        "from sklearn import metrics\n",
        "import seaborn as sn\n",
        "tags = list(tag_dict.keys())\n",
        "def get_confusion_matrix(preds, test_labels):\n",
        "    # print(preds[0][0])\n",
        "    # print(test_labels[0])\n",
        "    y_true = []\n",
        "    y_pred = []\n",
        "    for i in preds:\n",
        "        for j in i:\n",
        "            y_pred.append(j)\n",
        "    for i in test_labels:\n",
        "        for j in i:\n",
        "            y_true.append(j)\n",
        "    plt.figure(figsize=(25, 22), dpi=10)\n",
        "    df_cm = pd.DataFrame(metrics.confusion_matrix(y_true, y_pred, tags), tag_dict.keys(), tag_dict.keys())\n",
        "    sn.set(font_scale=1.0)\n",
        "    sn.heatmap(df_cm, annot=True, annot_kws={\"size\": 5}) # font size\n",
        "    # plt.show()\n",
        "    # plt.savefig('confusion_matrix.png')\n",
        "    plt.savefig('cm_hmm.png', format='png', dpi=200)\n",
        "    # print(metrics.confusion_matrix(y_true, y_pred))\n"
      ],
      "execution_count": 44,
      "outputs": []
    },
    {
      "cell_type": "code",
      "metadata": {
        "colab": {
          "base_uri": "https://localhost:8080/",
          "height": 189
        },
        "id": "8GfUS-fbNuBk",
        "outputId": "dcf9762f-42db-45a3-8235-794900d4bffc"
      },
      "source": [
        "get_confusion_matrix(preds, test_labels)"
      ],
      "execution_count": 45,
      "outputs": [
        {
          "output_type": "display_data",
          "data": {
            "text/plain": [
              "<Figure size 250x220 with 2 Axes>"
            ],
            "image/png": "[encoded data removed]"
          },
          "metadata": {
            "tags": []
          }
        }
      ]
    }
  ]
}